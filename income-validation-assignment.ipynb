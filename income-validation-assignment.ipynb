{
 "cells": [
  {
   "cell_type": "markdown",
   "metadata": {},
   "source": [
    "<p align=\"center\">\n",
    "<img src=\"https://www.fasttrack.co.uk/wp-content/uploads/lendable.png\" width=\"30%\">\n",
    "</p>\n",
    "<br><br>\n",
    "\n",
    "\n",
    "**In light of coronavirus, Lendable has taken the business decision to make manual income verification mandatory.**\n",
    "\n",
    "This workbook shows how I used data to inform my thinking on:\n",
    "* A/B randomised test strategy and process\n",
    "* Cost-benefit analysis of the randomised test\n",
    "* Potential improvements to the income validation process\n",
    "* Further data desired to inform decision\n",
    "\n",
    "Two Excel files named `loanapplications.csv` and `session and seed table.csv` have been used in the analysis\n",
    "\n",
    "**Assumptions:**\n",
    "* The data from a few days in early April is a representative sample of Lendable loan applications\n",
    "* The mandatory split and manual split sample populations are big enough to have statistical significance (e.g. A/B testing  sample population required was calculated)\n",
    "* Everything else across the journey is held constant and this is the only change that has been made (e.g. no other journey changed occurred, code implementation for the test was fine etc.) \n",
    "* Missing first loan payment is an indicator that the customer is at risk of not repaying future loans – these are the types of customers we would like to avoid \n",
    "\n",
    "**Data dictionary:**\n",
    "* Loan amount: amount borrowed\n",
    "* Loan term: duration of loan in months\n",
    "* Loan issues: 0 = no loan was issued, 1 = loan was issued\n",
    "* Loan missed first payment: 0 = first payment was received, 1 = first payment was not received\n",
    "* Customer completed open banking: 0 = open banking not used , 1 = open banking used\n",
    "* Customer uploaded a payslip: 0 = did not upload payslip, 1 = uploaded payslip\n",
    "* Customer signed contract: 0 = did not sign contract, 1 = signed contract\n",
    "* Customer is a homeowner: 0 = does not own a home, 1 = owns a home\n",
    "\n",
    "<br>"
   ]
  },
  {
   "cell_type": "code",
   "execution_count": 2,
   "metadata": {},
   "outputs": [],
   "source": [
    "# Import packages\n",
    "import pandas as pd\n",
    "import numpy as np\n",
    "import matplotlib.pyplot as plt\n",
    "import seaborn as sns"
   ]
  },
  {
   "cell_type": "markdown",
   "metadata": {},
   "source": [
    "# **Analysis of simplified merge test data**"
   ]
  },
  {
   "cell_type": "code",
   "execution_count": 3,
   "metadata": {},
   "outputs": [],
   "source": [
    "# Import test\n",
    "url_test = 'https://raw.githubusercontent.com/caryntan/sharing-github/master/session%20and%20seed%20table.csv'\n",
    "df_test = pd.read_csv(url_test)"
   ]
  },
  {
   "cell_type": "code",
   "execution_count": 4,
   "metadata": {},
   "outputs": [
    {
     "name": "stdout",
     "output_type": "stream",
     "text": [
      "(1010, 5)\n"
     ]
    },
    {
     "data": {
      "text/html": [
       "<div>\n",
       "<style scoped>\n",
       "    .dataframe tbody tr th:only-of-type {\n",
       "        vertical-align: middle;\n",
       "    }\n",
       "\n",
       "    .dataframe tbody tr th {\n",
       "        vertical-align: top;\n",
       "    }\n",
       "\n",
       "    .dataframe thead th {\n",
       "        text-align: right;\n",
       "    }\n",
       "</style>\n",
       "<table border=\"1\" class=\"dataframe\">\n",
       "  <thead>\n",
       "    <tr style=\"text-align: right;\">\n",
       "      <th></th>\n",
       "      <th>Session id</th>\n",
       "      <th>id</th>\n",
       "      <th>lifetime_id</th>\n",
       "      <th>name</th>\n",
       "      <th>value</th>\n",
       "    </tr>\n",
       "  </thead>\n",
       "  <tbody>\n",
       "    <tr>\n",
       "      <th>0</th>\n",
       "      <td>000659de-7642-11ea-a8e5-069d8de3f4da</td>\n",
       "      <td>33352598</td>\n",
       "      <td>00051350-7642-11ea-a8e5-069d8de3f4da</td>\n",
       "      <td>mandatory-income-verification</td>\n",
       "      <td>mandatory</td>\n",
       "    </tr>\n",
       "    <tr>\n",
       "      <th>1</th>\n",
       "      <td>000a58c5-7b77-11ea-a8e5-069d8de3f4da</td>\n",
       "      <td>33641470</td>\n",
       "      <td>00091995-7b77-11ea-a8e5-069d8de3f4da</td>\n",
       "      <td>mandatory-income-verification</td>\n",
       "      <td>mandatory</td>\n",
       "    </tr>\n",
       "    <tr>\n",
       "      <th>2</th>\n",
       "      <td>00601bb1-7c05-11ea-a8e5-069d8de3f4da</td>\n",
       "      <td>33670653</td>\n",
       "      <td>005f2060-7c05-11ea-a8e5-069d8de3f4da</td>\n",
       "      <td>mandatory-income-verification</td>\n",
       "      <td>mandatory</td>\n",
       "    </tr>\n",
       "    <tr>\n",
       "      <th>3</th>\n",
       "      <td>0092b9c9-7a2c-11ea-a8e5-069d8de3f4da</td>\n",
       "      <td>33563434</td>\n",
       "      <td>00917986-7a2c-11ea-a8e5-069d8de3f4da</td>\n",
       "      <td>mandatory-income-verification</td>\n",
       "      <td>mandatory</td>\n",
       "    </tr>\n",
       "    <tr>\n",
       "      <th>4</th>\n",
       "      <td>00bf3b7f-7c1f-11ea-a8e5-069d8de3f4da</td>\n",
       "      <td>33679780</td>\n",
       "      <td>00be3938-7c1f-11ea-a8e5-069d8de3f4da</td>\n",
       "      <td>mandatory-income-verification</td>\n",
       "      <td>mandatory</td>\n",
       "    </tr>\n",
       "  </tbody>\n",
       "</table>\n",
       "</div>"
      ],
      "text/plain": [
       "                             Session id        id  \\\n",
       "0  000659de-7642-11ea-a8e5-069d8de3f4da  33352598   \n",
       "1  000a58c5-7b77-11ea-a8e5-069d8de3f4da  33641470   \n",
       "2  00601bb1-7c05-11ea-a8e5-069d8de3f4da  33670653   \n",
       "3  0092b9c9-7a2c-11ea-a8e5-069d8de3f4da  33563434   \n",
       "4  00bf3b7f-7c1f-11ea-a8e5-069d8de3f4da  33679780   \n",
       "\n",
       "                            lifetime_id                           name  \\\n",
       "0  00051350-7642-11ea-a8e5-069d8de3f4da  mandatory-income-verification   \n",
       "1  00091995-7b77-11ea-a8e5-069d8de3f4da  mandatory-income-verification   \n",
       "2  005f2060-7c05-11ea-a8e5-069d8de3f4da  mandatory-income-verification   \n",
       "3  00917986-7a2c-11ea-a8e5-069d8de3f4da  mandatory-income-verification   \n",
       "4  00be3938-7c1f-11ea-a8e5-069d8de3f4da  mandatory-income-verification   \n",
       "\n",
       "       value  \n",
       "0  mandatory  \n",
       "1  mandatory  \n",
       "2  mandatory  \n",
       "3  mandatory  \n",
       "4  mandatory  "
      ]
     },
     "execution_count": 4,
     "metadata": {},
     "output_type": "execute_result"
    }
   ],
   "source": [
    "# Data dimensions, headers and number of unique values\n",
    "print (df_test.shape)\n",
    "df_test.head(5) "
   ]
  },
  {
   "cell_type": "code",
   "execution_count": 5,
   "metadata": {},
   "outputs": [
    {
     "data": {
      "text/html": [
       "<div>\n",
       "<style scoped>\n",
       "    .dataframe tbody tr th:only-of-type {\n",
       "        vertical-align: middle;\n",
       "    }\n",
       "\n",
       "    .dataframe tbody tr th {\n",
       "        vertical-align: top;\n",
       "    }\n",
       "\n",
       "    .dataframe thead th {\n",
       "        text-align: right;\n",
       "    }\n",
       "</style>\n",
       "<table border=\"1\" class=\"dataframe\">\n",
       "  <thead>\n",
       "    <tr style=\"text-align: right;\">\n",
       "      <th></th>\n",
       "      <th>index</th>\n",
       "      <th>0</th>\n",
       "    </tr>\n",
       "  </thead>\n",
       "  <tbody>\n",
       "    <tr>\n",
       "      <th>0</th>\n",
       "      <td>Session id</td>\n",
       "      <td>1010</td>\n",
       "    </tr>\n",
       "    <tr>\n",
       "      <th>1</th>\n",
       "      <td>id</td>\n",
       "      <td>1010</td>\n",
       "    </tr>\n",
       "    <tr>\n",
       "      <th>2</th>\n",
       "      <td>lifetime_id</td>\n",
       "      <td>1010</td>\n",
       "    </tr>\n",
       "    <tr>\n",
       "      <th>3</th>\n",
       "      <td>name</td>\n",
       "      <td>1</td>\n",
       "    </tr>\n",
       "    <tr>\n",
       "      <th>4</th>\n",
       "      <td>value</td>\n",
       "      <td>2</td>\n",
       "    </tr>\n",
       "  </tbody>\n",
       "</table>\n",
       "</div>"
      ],
      "text/plain": [
       "         index     0\n",
       "0   Session id  1010\n",
       "1           id  1010\n",
       "2  lifetime_id  1010\n",
       "3         name     1\n",
       "4        value     2"
      ]
     },
     "execution_count": 5,
     "metadata": {},
     "output_type": "execute_result"
    }
   ],
   "source": [
    "# How many unique values are there in each column?\n",
    "df_test.nunique().to_frame().reset_index()"
   ]
  },
  {
   "cell_type": "code",
   "execution_count": 6,
   "metadata": {},
   "outputs": [
    {
     "name": "stdout",
     "output_type": "stream",
     "text": [
      "['mandatory' 'normal']\n"
     ]
    }
   ],
   "source": [
    "# What are they unique values in 'value' column?\n",
    "print(df_test['value'].unique())"
   ]
  },
  {
   "cell_type": "code",
   "execution_count": 7,
   "metadata": {},
   "outputs": [
    {
     "data": {
      "text/html": [
       "<div>\n",
       "<style scoped>\n",
       "    .dataframe tbody tr th:only-of-type {\n",
       "        vertical-align: middle;\n",
       "    }\n",
       "\n",
       "    .dataframe tbody tr th {\n",
       "        vertical-align: top;\n",
       "    }\n",
       "\n",
       "    .dataframe thead th {\n",
       "        text-align: right;\n",
       "    }\n",
       "</style>\n",
       "<table border=\"1\" class=\"dataframe\">\n",
       "  <thead>\n",
       "    <tr style=\"text-align: right;\">\n",
       "      <th></th>\n",
       "      <th>value</th>\n",
       "      <th>count</th>\n",
       "    </tr>\n",
       "  </thead>\n",
       "  <tbody>\n",
       "    <tr>\n",
       "      <th>0</th>\n",
       "      <td>mandatory</td>\n",
       "      <td>780</td>\n",
       "    </tr>\n",
       "    <tr>\n",
       "      <th>1</th>\n",
       "      <td>normal</td>\n",
       "      <td>230</td>\n",
       "    </tr>\n",
       "  </tbody>\n",
       "</table>\n",
       "</div>"
      ],
      "text/plain": [
       "       value  count\n",
       "0  mandatory    780\n",
       "1     normal    230"
      ]
     },
     "execution_count": 7,
     "metadata": {},
     "output_type": "execute_result"
    }
   ],
   "source": [
    "# Split between mandatory and normal income verificaiton\n",
    "value = df_test.groupby('value')\n",
    "df_test.groupby('value').value.agg('count').to_frame('count').reset_index()"
   ]
  },
  {
   "cell_type": "code",
   "execution_count": 8,
   "metadata": {},
   "outputs": [
    {
     "name": "stdout",
     "output_type": "stream",
     "text": [
      "23%\n"
     ]
    }
   ],
   "source": [
    "# Percent of split test groups \n",
    "count = (230/(230+780))\n",
    "percentage = \"{:.0%}\".format(count)\n",
    "print(percentage)"
   ]
  },
  {
   "cell_type": "code",
   "execution_count": 9,
   "metadata": {},
   "outputs": [],
   "source": [
    "# session and seed data set has 1010 unique rows \n",
    "# 230 (23%) of those rows allow the applicant to go through the loan application process without manual income verfication \n",
    "# randomised A/B split test of 77% to 23% to test hypothesis of usefulness of manual income validation requirement during covid "
   ]
  },
  {
   "cell_type": "markdown",
   "metadata": {},
   "source": [
    "# **Analysis of loan applications data**"
   ]
  },
  {
   "cell_type": "code",
   "execution_count": 10,
   "metadata": {},
   "outputs": [],
   "source": [
    "# Import test\n",
    "url_loan = 'https://raw.githubusercontent.com/caryntan/sharing-github/master/loanapplications.csv'\n",
    "df_loan = pd.read_csv(url_loan)"
   ]
  },
  {
   "cell_type": "code",
   "execution_count": 11,
   "metadata": {},
   "outputs": [
    {
     "name": "stdout",
     "output_type": "stream",
     "text": [
      "(744, 10)\n"
     ]
    },
    {
     "data": {
      "text/html": [
       "<div>\n",
       "<style scoped>\n",
       "    .dataframe tbody tr th:only-of-type {\n",
       "        vertical-align: middle;\n",
       "    }\n",
       "\n",
       "    .dataframe tbody tr th {\n",
       "        vertical-align: top;\n",
       "    }\n",
       "\n",
       "    .dataframe thead th {\n",
       "        text-align: right;\n",
       "    }\n",
       "</style>\n",
       "<table border=\"1\" class=\"dataframe\">\n",
       "  <thead>\n",
       "    <tr style=\"text-align: right;\">\n",
       "      <th></th>\n",
       "      <th>Application id</th>\n",
       "      <th>Session id</th>\n",
       "      <th>Loan Amount</th>\n",
       "      <th>Loan Term</th>\n",
       "      <th>Loan issued</th>\n",
       "      <th>Loan missed first payment</th>\n",
       "      <th>Customer completed open banking</th>\n",
       "      <th>Customer uploaded a payslip</th>\n",
       "      <th>Customer signed contract</th>\n",
       "      <th>Customer is a homeowner</th>\n",
       "    </tr>\n",
       "  </thead>\n",
       "  <tbody>\n",
       "    <tr>\n",
       "      <th>0</th>\n",
       "      <td>18808923</td>\n",
       "      <td>a6f66c9e-74c0-11ea-a8e5-069d8de3f4da</td>\n",
       "      <td>1000.0</td>\n",
       "      <td>12</td>\n",
       "      <td>0</td>\n",
       "      <td>0</td>\n",
       "      <td>1</td>\n",
       "      <td>0</td>\n",
       "      <td>0</td>\n",
       "      <td>0</td>\n",
       "    </tr>\n",
       "    <tr>\n",
       "      <th>1</th>\n",
       "      <td>18848975</td>\n",
       "      <td>71489d11-75da-11ea-a8e5-069d8de3f4da</td>\n",
       "      <td>7000.0</td>\n",
       "      <td>30</td>\n",
       "      <td>1</td>\n",
       "      <td>0</td>\n",
       "      <td>1</td>\n",
       "      <td>1</td>\n",
       "      <td>1</td>\n",
       "      <td>0</td>\n",
       "    </tr>\n",
       "    <tr>\n",
       "      <th>2</th>\n",
       "      <td>18849326</td>\n",
       "      <td>bd5ec027-75db-11ea-a8e5-069d8de3f4da</td>\n",
       "      <td>8000.0</td>\n",
       "      <td>60</td>\n",
       "      <td>1</td>\n",
       "      <td>0</td>\n",
       "      <td>1</td>\n",
       "      <td>0</td>\n",
       "      <td>1</td>\n",
       "      <td>1</td>\n",
       "    </tr>\n",
       "    <tr>\n",
       "      <th>3</th>\n",
       "      <td>18849472</td>\n",
       "      <td>452fda42-75dc-11ea-a8e5-069d8de3f4da</td>\n",
       "      <td>6000.0</td>\n",
       "      <td>30</td>\n",
       "      <td>1</td>\n",
       "      <td>0</td>\n",
       "      <td>1</td>\n",
       "      <td>0</td>\n",
       "      <td>1</td>\n",
       "      <td>0</td>\n",
       "    </tr>\n",
       "    <tr>\n",
       "      <th>4</th>\n",
       "      <td>18849611</td>\n",
       "      <td>c44b91c5-75dc-11ea-a8e5-069d8de3f4da</td>\n",
       "      <td>1500.0</td>\n",
       "      <td>24</td>\n",
       "      <td>0</td>\n",
       "      <td>0</td>\n",
       "      <td>0</td>\n",
       "      <td>0</td>\n",
       "      <td>0</td>\n",
       "      <td>0</td>\n",
       "    </tr>\n",
       "  </tbody>\n",
       "</table>\n",
       "</div>"
      ],
      "text/plain": [
       "   Application id                            Session id  Loan Amount  \\\n",
       "0        18808923  a6f66c9e-74c0-11ea-a8e5-069d8de3f4da       1000.0   \n",
       "1        18848975  71489d11-75da-11ea-a8e5-069d8de3f4da       7000.0   \n",
       "2        18849326  bd5ec027-75db-11ea-a8e5-069d8de3f4da       8000.0   \n",
       "3        18849472  452fda42-75dc-11ea-a8e5-069d8de3f4da       6000.0   \n",
       "4        18849611  c44b91c5-75dc-11ea-a8e5-069d8de3f4da       1500.0   \n",
       "\n",
       "   Loan Term  Loan issued  Loan missed first payment  \\\n",
       "0         12            0                          0   \n",
       "1         30            1                          0   \n",
       "2         60            1                          0   \n",
       "3         30            1                          0   \n",
       "4         24            0                          0   \n",
       "\n",
       "   Customer completed open banking  Customer uploaded a payslip  \\\n",
       "0                                1                            0   \n",
       "1                                1                            1   \n",
       "2                                1                            0   \n",
       "3                                1                            0   \n",
       "4                                0                            0   \n",
       "\n",
       "   Customer signed contract  Customer is a homeowner  \n",
       "0                         0                        0  \n",
       "1                         1                        0  \n",
       "2                         1                        1  \n",
       "3                         1                        0  \n",
       "4                         0                        0  "
      ]
     },
     "execution_count": 11,
     "metadata": {},
     "output_type": "execute_result"
    }
   ],
   "source": [
    "# Data dimensions, headers and number of unique values\n",
    "print (df_loan.shape)\n",
    "df_loan.head(5) "
   ]
  },
  {
   "cell_type": "code",
   "execution_count": 12,
   "metadata": {},
   "outputs": [
    {
     "data": {
      "text/html": [
       "<div>\n",
       "<style scoped>\n",
       "    .dataframe tbody tr th:only-of-type {\n",
       "        vertical-align: middle;\n",
       "    }\n",
       "\n",
       "    .dataframe tbody tr th {\n",
       "        vertical-align: top;\n",
       "    }\n",
       "\n",
       "    .dataframe thead th {\n",
       "        text-align: right;\n",
       "    }\n",
       "</style>\n",
       "<table border=\"1\" class=\"dataframe\">\n",
       "  <thead>\n",
       "    <tr style=\"text-align: right;\">\n",
       "      <th></th>\n",
       "      <th>index</th>\n",
       "      <th>0</th>\n",
       "    </tr>\n",
       "  </thead>\n",
       "  <tbody>\n",
       "    <tr>\n",
       "      <th>0</th>\n",
       "      <td>Application id</td>\n",
       "      <td>744</td>\n",
       "    </tr>\n",
       "    <tr>\n",
       "      <th>1</th>\n",
       "      <td>Session id</td>\n",
       "      <td>744</td>\n",
       "    </tr>\n",
       "    <tr>\n",
       "      <th>2</th>\n",
       "      <td>Loan Amount</td>\n",
       "      <td>83</td>\n",
       "    </tr>\n",
       "    <tr>\n",
       "      <th>3</th>\n",
       "      <td>Loan Term</td>\n",
       "      <td>9</td>\n",
       "    </tr>\n",
       "    <tr>\n",
       "      <th>4</th>\n",
       "      <td>Loan issued</td>\n",
       "      <td>2</td>\n",
       "    </tr>\n",
       "    <tr>\n",
       "      <th>5</th>\n",
       "      <td>Loan missed first payment</td>\n",
       "      <td>2</td>\n",
       "    </tr>\n",
       "    <tr>\n",
       "      <th>6</th>\n",
       "      <td>Customer completed open banking</td>\n",
       "      <td>2</td>\n",
       "    </tr>\n",
       "    <tr>\n",
       "      <th>7</th>\n",
       "      <td>Customer uploaded a payslip</td>\n",
       "      <td>2</td>\n",
       "    </tr>\n",
       "    <tr>\n",
       "      <th>8</th>\n",
       "      <td>Customer signed contract</td>\n",
       "      <td>2</td>\n",
       "    </tr>\n",
       "    <tr>\n",
       "      <th>9</th>\n",
       "      <td>Customer is a homeowner</td>\n",
       "      <td>2</td>\n",
       "    </tr>\n",
       "  </tbody>\n",
       "</table>\n",
       "</div>"
      ],
      "text/plain": [
       "                             index    0\n",
       "0                   Application id  744\n",
       "1                       Session id  744\n",
       "2                      Loan Amount   83\n",
       "3                        Loan Term    9\n",
       "4                      Loan issued    2\n",
       "5        Loan missed first payment    2\n",
       "6  Customer completed open banking    2\n",
       "7      Customer uploaded a payslip    2\n",
       "8         Customer signed contract    2\n",
       "9          Customer is a homeowner    2"
      ]
     },
     "execution_count": 12,
     "metadata": {},
     "output_type": "execute_result"
    }
   ],
   "source": [
    "# How many unique values are there in each column?\n",
    "df_loan.nunique().to_frame().reset_index()"
   ]
  },
  {
   "cell_type": "code",
   "execution_count": 13,
   "metadata": {},
   "outputs": [
    {
     "data": {
      "text/html": [
       "<div>\n",
       "<style scoped>\n",
       "    .dataframe tbody tr th:only-of-type {\n",
       "        vertical-align: middle;\n",
       "    }\n",
       "\n",
       "    .dataframe tbody tr th {\n",
       "        vertical-align: top;\n",
       "    }\n",
       "\n",
       "    .dataframe thead th {\n",
       "        text-align: right;\n",
       "    }\n",
       "</style>\n",
       "<table border=\"1\" class=\"dataframe\">\n",
       "  <thead>\n",
       "    <tr style=\"text-align: right;\">\n",
       "      <th></th>\n",
       "      <th>Loan Amount</th>\n",
       "      <th>Loan Term</th>\n",
       "    </tr>\n",
       "  </thead>\n",
       "  <tbody>\n",
       "    <tr>\n",
       "      <th>count</th>\n",
       "      <td>744.0</td>\n",
       "      <td>744.0</td>\n",
       "    </tr>\n",
       "    <tr>\n",
       "      <th>mean</th>\n",
       "      <td>4021.0</td>\n",
       "      <td>34.0</td>\n",
       "    </tr>\n",
       "    <tr>\n",
       "      <th>std</th>\n",
       "      <td>3155.0</td>\n",
       "      <td>15.0</td>\n",
       "    </tr>\n",
       "    <tr>\n",
       "      <th>min</th>\n",
       "      <td>500.0</td>\n",
       "      <td>12.0</td>\n",
       "    </tr>\n",
       "    <tr>\n",
       "      <th>25%</th>\n",
       "      <td>1500.0</td>\n",
       "      <td>24.0</td>\n",
       "    </tr>\n",
       "    <tr>\n",
       "      <th>50%</th>\n",
       "      <td>3000.0</td>\n",
       "      <td>36.0</td>\n",
       "    </tr>\n",
       "    <tr>\n",
       "      <th>75%</th>\n",
       "      <td>5000.0</td>\n",
       "      <td>48.0</td>\n",
       "    </tr>\n",
       "    <tr>\n",
       "      <th>max</th>\n",
       "      <td>20000.0</td>\n",
       "      <td>60.0</td>\n",
       "    </tr>\n",
       "  </tbody>\n",
       "</table>\n",
       "</div>"
      ],
      "text/plain": [
       "       Loan Amount  Loan Term\n",
       "count        744.0      744.0\n",
       "mean        4021.0       34.0\n",
       "std         3155.0       15.0\n",
       "min          500.0       12.0\n",
       "25%         1500.0       24.0\n",
       "50%         3000.0       36.0\n",
       "75%         5000.0       48.0\n",
       "max        20000.0       60.0"
      ]
     },
     "execution_count": 13,
     "metadata": {},
     "output_type": "execute_result"
    }
   ],
   "source": [
    "# Distribution of key numeric columns\n",
    "round(df_loan[['Loan Amount','Loan Term']].describe())"
   ]
  },
  {
   "cell_type": "code",
   "execution_count": 14,
   "metadata": {},
   "outputs": [
    {
     "data": {
      "text/plain": [
       "5.0"
      ]
     },
     "execution_count": 14,
     "metadata": {},
     "output_type": "execute_result"
    }
   ],
   "source": [
    "#loan term of 60 to years\n",
    "60/12"
   ]
  },
  {
   "cell_type": "markdown",
   "metadata": {},
   "source": [
    "# **Merge tables**"
   ]
  },
  {
   "cell_type": "code",
   "execution_count": 15,
   "metadata": {},
   "outputs": [
    {
     "name": "stdout",
     "output_type": "stream",
     "text": [
      "<class 'pandas.core.frame.DataFrame'>\n",
      "RangeIndex: 1010 entries, 0 to 1009\n",
      "Data columns (total 2 columns):\n",
      " #   Column      Non-Null Count  Dtype \n",
      "---  ------      --------------  ----- \n",
      " 0   Session id  1010 non-null   object\n",
      " 1   value       1010 non-null   object\n",
      "dtypes: object(2)\n",
      "memory usage: 15.9+ KB\n"
     ]
    },
    {
     "data": {
      "text/html": [
       "<div>\n",
       "<style scoped>\n",
       "    .dataframe tbody tr th:only-of-type {\n",
       "        vertical-align: middle;\n",
       "    }\n",
       "\n",
       "    .dataframe tbody tr th {\n",
       "        vertical-align: top;\n",
       "    }\n",
       "\n",
       "    .dataframe thead th {\n",
       "        text-align: right;\n",
       "    }\n",
       "</style>\n",
       "<table border=\"1\" class=\"dataframe\">\n",
       "  <thead>\n",
       "    <tr style=\"text-align: right;\">\n",
       "      <th></th>\n",
       "      <th>Application id</th>\n",
       "      <th>Session id</th>\n",
       "      <th>Loan Amount</th>\n",
       "      <th>Loan Term</th>\n",
       "      <th>Loan issued</th>\n",
       "      <th>Loan missed first payment</th>\n",
       "      <th>Customer completed open banking</th>\n",
       "      <th>Customer uploaded a payslip</th>\n",
       "      <th>Customer signed contract</th>\n",
       "      <th>Customer is a homeowner</th>\n",
       "      <th>value</th>\n",
       "    </tr>\n",
       "  </thead>\n",
       "  <tbody>\n",
       "    <tr>\n",
       "      <th>0</th>\n",
       "      <td>18808923</td>\n",
       "      <td>a6f66c9e-74c0-11ea-a8e5-069d8de3f4da</td>\n",
       "      <td>1000.0</td>\n",
       "      <td>12</td>\n",
       "      <td>0</td>\n",
       "      <td>0</td>\n",
       "      <td>1</td>\n",
       "      <td>0</td>\n",
       "      <td>0</td>\n",
       "      <td>0</td>\n",
       "      <td>mandatory</td>\n",
       "    </tr>\n",
       "    <tr>\n",
       "      <th>1</th>\n",
       "      <td>18848975</td>\n",
       "      <td>71489d11-75da-11ea-a8e5-069d8de3f4da</td>\n",
       "      <td>7000.0</td>\n",
       "      <td>30</td>\n",
       "      <td>1</td>\n",
       "      <td>0</td>\n",
       "      <td>1</td>\n",
       "      <td>1</td>\n",
       "      <td>1</td>\n",
       "      <td>0</td>\n",
       "      <td>mandatory</td>\n",
       "    </tr>\n",
       "    <tr>\n",
       "      <th>2</th>\n",
       "      <td>18849326</td>\n",
       "      <td>bd5ec027-75db-11ea-a8e5-069d8de3f4da</td>\n",
       "      <td>8000.0</td>\n",
       "      <td>60</td>\n",
       "      <td>1</td>\n",
       "      <td>0</td>\n",
       "      <td>1</td>\n",
       "      <td>0</td>\n",
       "      <td>1</td>\n",
       "      <td>1</td>\n",
       "      <td>mandatory</td>\n",
       "    </tr>\n",
       "    <tr>\n",
       "      <th>3</th>\n",
       "      <td>18849472</td>\n",
       "      <td>452fda42-75dc-11ea-a8e5-069d8de3f4da</td>\n",
       "      <td>6000.0</td>\n",
       "      <td>30</td>\n",
       "      <td>1</td>\n",
       "      <td>0</td>\n",
       "      <td>1</td>\n",
       "      <td>0</td>\n",
       "      <td>1</td>\n",
       "      <td>0</td>\n",
       "      <td>mandatory</td>\n",
       "    </tr>\n",
       "    <tr>\n",
       "      <th>4</th>\n",
       "      <td>18849611</td>\n",
       "      <td>c44b91c5-75dc-11ea-a8e5-069d8de3f4da</td>\n",
       "      <td>1500.0</td>\n",
       "      <td>24</td>\n",
       "      <td>0</td>\n",
       "      <td>0</td>\n",
       "      <td>0</td>\n",
       "      <td>0</td>\n",
       "      <td>0</td>\n",
       "      <td>0</td>\n",
       "      <td>mandatory</td>\n",
       "    </tr>\n",
       "  </tbody>\n",
       "</table>\n",
       "</div>"
      ],
      "text/plain": [
       "   Application id                            Session id  Loan Amount  \\\n",
       "0        18808923  a6f66c9e-74c0-11ea-a8e5-069d8de3f4da       1000.0   \n",
       "1        18848975  71489d11-75da-11ea-a8e5-069d8de3f4da       7000.0   \n",
       "2        18849326  bd5ec027-75db-11ea-a8e5-069d8de3f4da       8000.0   \n",
       "3        18849472  452fda42-75dc-11ea-a8e5-069d8de3f4da       6000.0   \n",
       "4        18849611  c44b91c5-75dc-11ea-a8e5-069d8de3f4da       1500.0   \n",
       "\n",
       "   Loan Term  Loan issued  Loan missed first payment  \\\n",
       "0         12            0                          0   \n",
       "1         30            1                          0   \n",
       "2         60            1                          0   \n",
       "3         30            1                          0   \n",
       "4         24            0                          0   \n",
       "\n",
       "   Customer completed open banking  Customer uploaded a payslip  \\\n",
       "0                                1                            0   \n",
       "1                                1                            1   \n",
       "2                                1                            0   \n",
       "3                                1                            0   \n",
       "4                                0                            0   \n",
       "\n",
       "   Customer signed contract  Customer is a homeowner      value  \n",
       "0                         0                        0  mandatory  \n",
       "1                         1                        0  mandatory  \n",
       "2                         1                        1  mandatory  \n",
       "3                         1                        0  mandatory  \n",
       "4                         0                        0  mandatory  "
      ]
     },
     "execution_count": 15,
     "metadata": {},
     "output_type": "execute_result"
    }
   ],
   "source": [
    "# Drop irrelevant columns and combine loan application and test table in a left join on 'session id' - only interested in test data associated to a loan application row\n",
    "df_test.drop(['id','lifetime_id','name'], axis = 1, inplace = True)\n",
    "df_test.info()\n",
    "df_combined = df_loan.merge(df_test, on=\"Session id\", how = \"left\")\n",
    "df_combined.head()"
   ]
  },
  {
   "cell_type": "code",
   "execution_count": 16,
   "metadata": {},
   "outputs": [
    {
     "name": "stdout",
     "output_type": "stream",
     "text": [
      "(744, 11)\n"
     ]
    }
   ],
   "source": [
    "#Shape of table to ensure I did not lose rows\n",
    "print (df_combined.shape)"
   ]
  },
  {
   "cell_type": "code",
   "execution_count": 17,
   "metadata": {},
   "outputs": [
    {
     "data": {
      "text/html": [
       "<div>\n",
       "<style scoped>\n",
       "    .dataframe tbody tr th:only-of-type {\n",
       "        vertical-align: middle;\n",
       "    }\n",
       "\n",
       "    .dataframe tbody tr th {\n",
       "        vertical-align: top;\n",
       "    }\n",
       "\n",
       "    .dataframe thead th {\n",
       "        text-align: right;\n",
       "    }\n",
       "</style>\n",
       "<table border=\"1\" class=\"dataframe\">\n",
       "  <thead>\n",
       "    <tr style=\"text-align: right;\">\n",
       "      <th></th>\n",
       "      <th>index</th>\n",
       "      <th>0</th>\n",
       "    </tr>\n",
       "  </thead>\n",
       "  <tbody>\n",
       "    <tr>\n",
       "      <th>0</th>\n",
       "      <td>Application id</td>\n",
       "      <td>744</td>\n",
       "    </tr>\n",
       "    <tr>\n",
       "      <th>1</th>\n",
       "      <td>Session id</td>\n",
       "      <td>744</td>\n",
       "    </tr>\n",
       "    <tr>\n",
       "      <th>2</th>\n",
       "      <td>Loan Amount</td>\n",
       "      <td>83</td>\n",
       "    </tr>\n",
       "    <tr>\n",
       "      <th>3</th>\n",
       "      <td>Loan Term</td>\n",
       "      <td>9</td>\n",
       "    </tr>\n",
       "    <tr>\n",
       "      <th>4</th>\n",
       "      <td>Loan issued</td>\n",
       "      <td>2</td>\n",
       "    </tr>\n",
       "    <tr>\n",
       "      <th>5</th>\n",
       "      <td>Loan missed first payment</td>\n",
       "      <td>2</td>\n",
       "    </tr>\n",
       "    <tr>\n",
       "      <th>6</th>\n",
       "      <td>Customer completed open banking</td>\n",
       "      <td>2</td>\n",
       "    </tr>\n",
       "    <tr>\n",
       "      <th>7</th>\n",
       "      <td>Customer uploaded a payslip</td>\n",
       "      <td>2</td>\n",
       "    </tr>\n",
       "    <tr>\n",
       "      <th>8</th>\n",
       "      <td>Customer signed contract</td>\n",
       "      <td>2</td>\n",
       "    </tr>\n",
       "    <tr>\n",
       "      <th>9</th>\n",
       "      <td>Customer is a homeowner</td>\n",
       "      <td>2</td>\n",
       "    </tr>\n",
       "    <tr>\n",
       "      <th>10</th>\n",
       "      <td>value</td>\n",
       "      <td>2</td>\n",
       "    </tr>\n",
       "  </tbody>\n",
       "</table>\n",
       "</div>"
      ],
      "text/plain": [
       "                              index    0\n",
       "0                    Application id  744\n",
       "1                        Session id  744\n",
       "2                       Loan Amount   83\n",
       "3                         Loan Term    9\n",
       "4                       Loan issued    2\n",
       "5         Loan missed first payment    2\n",
       "6   Customer completed open banking    2\n",
       "7       Customer uploaded a payslip    2\n",
       "8          Customer signed contract    2\n",
       "9           Customer is a homeowner    2\n",
       "10                            value    2"
      ]
     },
     "execution_count": 17,
     "metadata": {},
     "output_type": "execute_result"
    }
   ],
   "source": [
    "# Understand values \n",
    "df_combined.nunique().to_frame().reset_index()"
   ]
  },
  {
   "cell_type": "code",
   "execution_count": 18,
   "metadata": {},
   "outputs": [
    {
     "data": {
      "text/html": [
       "<div>\n",
       "<style scoped>\n",
       "    .dataframe tbody tr th:only-of-type {\n",
       "        vertical-align: middle;\n",
       "    }\n",
       "\n",
       "    .dataframe tbody tr th {\n",
       "        vertical-align: top;\n",
       "    }\n",
       "\n",
       "    .dataframe thead th {\n",
       "        text-align: right;\n",
       "    }\n",
       "</style>\n",
       "<table border=\"1\" class=\"dataframe\">\n",
       "  <thead>\n",
       "    <tr style=\"text-align: right;\">\n",
       "      <th>col_0</th>\n",
       "      <th>count</th>\n",
       "    </tr>\n",
       "    <tr>\n",
       "      <th>value</th>\n",
       "      <th></th>\n",
       "    </tr>\n",
       "  </thead>\n",
       "  <tbody>\n",
       "    <tr>\n",
       "      <th>mandatory</th>\n",
       "      <td>77.150538</td>\n",
       "    </tr>\n",
       "    <tr>\n",
       "      <th>normal</th>\n",
       "      <td>22.849462</td>\n",
       "    </tr>\n",
       "  </tbody>\n",
       "</table>\n",
       "</div>"
      ],
      "text/plain": [
       "col_0          count\n",
       "value               \n",
       "mandatory  77.150538\n",
       "normal     22.849462"
      ]
     },
     "execution_count": 18,
     "metadata": {},
     "output_type": "execute_result"
    }
   ],
   "source": [
    "# Proportion of mandatory to normal\n",
    "proportion = pd.crosstab(index=df_combined[\"value\"], \n",
    "                           columns=\"count\")\n",
    "100*(proportion/proportion.sum())"
   ]
  },
  {
   "cell_type": "code",
   "execution_count": 19,
   "metadata": {},
   "outputs": [
    {
     "data": {
      "text/html": [
       "<div>\n",
       "<style scoped>\n",
       "    .dataframe tbody tr th:only-of-type {\n",
       "        vertical-align: middle;\n",
       "    }\n",
       "\n",
       "    .dataframe tbody tr th {\n",
       "        vertical-align: top;\n",
       "    }\n",
       "\n",
       "    .dataframe thead th {\n",
       "        text-align: right;\n",
       "    }\n",
       "</style>\n",
       "<table border=\"1\" class=\"dataframe\">\n",
       "  <thead>\n",
       "    <tr style=\"text-align: right;\">\n",
       "      <th></th>\n",
       "      <th>Application id</th>\n",
       "      <th>Session id</th>\n",
       "      <th>Loan Amount</th>\n",
       "      <th>Loan Term</th>\n",
       "      <th>Loan issued</th>\n",
       "      <th>Loan missed first payment</th>\n",
       "      <th>Customer completed open banking</th>\n",
       "      <th>Customer uploaded a payslip</th>\n",
       "      <th>Customer signed contract</th>\n",
       "      <th>Customer is a homeowner</th>\n",
       "      <th>value</th>\n",
       "      <th>Income Val</th>\n",
       "    </tr>\n",
       "  </thead>\n",
       "  <tbody>\n",
       "    <tr>\n",
       "      <th>0</th>\n",
       "      <td>18808923</td>\n",
       "      <td>a6f66c9e-74c0-11ea-a8e5-069d8de3f4da</td>\n",
       "      <td>1000.0</td>\n",
       "      <td>12</td>\n",
       "      <td>0</td>\n",
       "      <td>0</td>\n",
       "      <td>1</td>\n",
       "      <td>0</td>\n",
       "      <td>0</td>\n",
       "      <td>0</td>\n",
       "      <td>mandatory</td>\n",
       "      <td>1</td>\n",
       "    </tr>\n",
       "    <tr>\n",
       "      <th>1</th>\n",
       "      <td>18848975</td>\n",
       "      <td>71489d11-75da-11ea-a8e5-069d8de3f4da</td>\n",
       "      <td>7000.0</td>\n",
       "      <td>30</td>\n",
       "      <td>1</td>\n",
       "      <td>0</td>\n",
       "      <td>1</td>\n",
       "      <td>1</td>\n",
       "      <td>1</td>\n",
       "      <td>0</td>\n",
       "      <td>mandatory</td>\n",
       "      <td>2</td>\n",
       "    </tr>\n",
       "    <tr>\n",
       "      <th>2</th>\n",
       "      <td>18849326</td>\n",
       "      <td>bd5ec027-75db-11ea-a8e5-069d8de3f4da</td>\n",
       "      <td>8000.0</td>\n",
       "      <td>60</td>\n",
       "      <td>1</td>\n",
       "      <td>0</td>\n",
       "      <td>1</td>\n",
       "      <td>0</td>\n",
       "      <td>1</td>\n",
       "      <td>1</td>\n",
       "      <td>mandatory</td>\n",
       "      <td>1</td>\n",
       "    </tr>\n",
       "    <tr>\n",
       "      <th>3</th>\n",
       "      <td>18849472</td>\n",
       "      <td>452fda42-75dc-11ea-a8e5-069d8de3f4da</td>\n",
       "      <td>6000.0</td>\n",
       "      <td>30</td>\n",
       "      <td>1</td>\n",
       "      <td>0</td>\n",
       "      <td>1</td>\n",
       "      <td>0</td>\n",
       "      <td>1</td>\n",
       "      <td>0</td>\n",
       "      <td>mandatory</td>\n",
       "      <td>1</td>\n",
       "    </tr>\n",
       "    <tr>\n",
       "      <th>4</th>\n",
       "      <td>18849611</td>\n",
       "      <td>c44b91c5-75dc-11ea-a8e5-069d8de3f4da</td>\n",
       "      <td>1500.0</td>\n",
       "      <td>24</td>\n",
       "      <td>0</td>\n",
       "      <td>0</td>\n",
       "      <td>0</td>\n",
       "      <td>0</td>\n",
       "      <td>0</td>\n",
       "      <td>0</td>\n",
       "      <td>mandatory</td>\n",
       "      <td>0</td>\n",
       "    </tr>\n",
       "  </tbody>\n",
       "</table>\n",
       "</div>"
      ],
      "text/plain": [
       "   Application id                            Session id  Loan Amount  \\\n",
       "0        18808923  a6f66c9e-74c0-11ea-a8e5-069d8de3f4da       1000.0   \n",
       "1        18848975  71489d11-75da-11ea-a8e5-069d8de3f4da       7000.0   \n",
       "2        18849326  bd5ec027-75db-11ea-a8e5-069d8de3f4da       8000.0   \n",
       "3        18849472  452fda42-75dc-11ea-a8e5-069d8de3f4da       6000.0   \n",
       "4        18849611  c44b91c5-75dc-11ea-a8e5-069d8de3f4da       1500.0   \n",
       "\n",
       "   Loan Term  Loan issued  Loan missed first payment  \\\n",
       "0         12            0                          0   \n",
       "1         30            1                          0   \n",
       "2         60            1                          0   \n",
       "3         30            1                          0   \n",
       "4         24            0                          0   \n",
       "\n",
       "   Customer completed open banking  Customer uploaded a payslip  \\\n",
       "0                                1                            0   \n",
       "1                                1                            1   \n",
       "2                                1                            0   \n",
       "3                                1                            0   \n",
       "4                                0                            0   \n",
       "\n",
       "   Customer signed contract  Customer is a homeowner      value  Income Val  \n",
       "0                         0                        0  mandatory           1  \n",
       "1                         1                        0  mandatory           2  \n",
       "2                         1                        1  mandatory           1  \n",
       "3                         1                        0  mandatory           1  \n",
       "4                         0                        0  mandatory           0  "
      ]
     },
     "execution_count": 19,
     "metadata": {},
     "output_type": "execute_result"
    }
   ],
   "source": [
    "# Payslip or openbanking = income validation requirement - create new column\n",
    "df_combined['Income Val']= df_combined['Customer completed open banking'] + df_combined['Customer uploaded a payslip']\n",
    "df_combined.head(5)"
   ]
  },
  {
   "cell_type": "code",
   "execution_count": 20,
   "metadata": {},
   "outputs": [
    {
     "data": {
      "image/png": "[encoded data removed]",
      "text/plain": [
       "<Figure size 2160x720 with 1 Axes>"
      ]
     },
     "metadata": {
      "needs_background": "light"
     },
     "output_type": "display_data"
    }
   ],
   "source": [
    "# Checking out the loan distribution - out of curiosity\n",
    "plt.figure(figsize =(30,10))\n",
    "sns.countplot(x ='Loan Amount', data =  df_combined)\n",
    "plt.xticks(rotation=45)\n",
    "plt.show()"
   ]
  },
  {
   "cell_type": "code",
   "execution_count": 21,
   "metadata": {},
   "outputs": [
    {
     "data": {
      "image/png": "[encoded data removed]",
      "text/plain": [
       "<Figure size 1440x360 with 1 Axes>"
      ]
     },
     "metadata": {
      "needs_background": "light"
     },
     "output_type": "display_data"
    }
   ],
   "source": [
    "# Checking out the loan term distribution out of curiosity\n",
    "plt.figure(figsize =(20,5))\n",
    "sns.countplot(x ='Loan Term', data =  df_combined)\n",
    "plt.xticks(rotation=45)\n",
    "plt.show()"
   ]
  },
  {
   "cell_type": "code",
   "execution_count": 22,
   "metadata": {},
   "outputs": [
    {
     "data": {
      "text/html": [
       "<div>\n",
       "<style scoped>\n",
       "    .dataframe tbody tr th:only-of-type {\n",
       "        vertical-align: middle;\n",
       "    }\n",
       "\n",
       "    .dataframe tbody tr th {\n",
       "        vertical-align: top;\n",
       "    }\n",
       "\n",
       "    .dataframe thead th {\n",
       "        text-align: right;\n",
       "    }\n",
       "</style>\n",
       "<table border=\"1\" class=\"dataframe\">\n",
       "  <thead>\n",
       "    <tr style=\"text-align: right;\">\n",
       "      <th></th>\n",
       "      <th>application_id</th>\n",
       "      <th>session_id</th>\n",
       "      <th>loan_amount</th>\n",
       "      <th>loan_term</th>\n",
       "      <th>loan_issued</th>\n",
       "      <th>loan_missed_first_payment</th>\n",
       "      <th>customer_completed_open_banking</th>\n",
       "      <th>customer_uploaded_a_payslip</th>\n",
       "      <th>customer_signed_contract</th>\n",
       "      <th>customer_is_a_homeowner</th>\n",
       "      <th>value</th>\n",
       "      <th>income_val</th>\n",
       "    </tr>\n",
       "  </thead>\n",
       "  <tbody>\n",
       "    <tr>\n",
       "      <th>0</th>\n",
       "      <td>18808923</td>\n",
       "      <td>a6f66c9e-74c0-11ea-a8e5-069d8de3f4da</td>\n",
       "      <td>1000.0</td>\n",
       "      <td>12</td>\n",
       "      <td>0</td>\n",
       "      <td>0</td>\n",
       "      <td>1</td>\n",
       "      <td>0</td>\n",
       "      <td>0</td>\n",
       "      <td>0</td>\n",
       "      <td>mandatory</td>\n",
       "      <td>1</td>\n",
       "    </tr>\n",
       "    <tr>\n",
       "      <th>1</th>\n",
       "      <td>18848975</td>\n",
       "      <td>71489d11-75da-11ea-a8e5-069d8de3f4da</td>\n",
       "      <td>7000.0</td>\n",
       "      <td>30</td>\n",
       "      <td>1</td>\n",
       "      <td>0</td>\n",
       "      <td>1</td>\n",
       "      <td>1</td>\n",
       "      <td>1</td>\n",
       "      <td>0</td>\n",
       "      <td>mandatory</td>\n",
       "      <td>2</td>\n",
       "    </tr>\n",
       "    <tr>\n",
       "      <th>2</th>\n",
       "      <td>18849326</td>\n",
       "      <td>bd5ec027-75db-11ea-a8e5-069d8de3f4da</td>\n",
       "      <td>8000.0</td>\n",
       "      <td>60</td>\n",
       "      <td>1</td>\n",
       "      <td>0</td>\n",
       "      <td>1</td>\n",
       "      <td>0</td>\n",
       "      <td>1</td>\n",
       "      <td>1</td>\n",
       "      <td>mandatory</td>\n",
       "      <td>1</td>\n",
       "    </tr>\n",
       "    <tr>\n",
       "      <th>3</th>\n",
       "      <td>18849472</td>\n",
       "      <td>452fda42-75dc-11ea-a8e5-069d8de3f4da</td>\n",
       "      <td>6000.0</td>\n",
       "      <td>30</td>\n",
       "      <td>1</td>\n",
       "      <td>0</td>\n",
       "      <td>1</td>\n",
       "      <td>0</td>\n",
       "      <td>1</td>\n",
       "      <td>0</td>\n",
       "      <td>mandatory</td>\n",
       "      <td>1</td>\n",
       "    </tr>\n",
       "    <tr>\n",
       "      <th>4</th>\n",
       "      <td>18849611</td>\n",
       "      <td>c44b91c5-75dc-11ea-a8e5-069d8de3f4da</td>\n",
       "      <td>1500.0</td>\n",
       "      <td>24</td>\n",
       "      <td>0</td>\n",
       "      <td>0</td>\n",
       "      <td>0</td>\n",
       "      <td>0</td>\n",
       "      <td>0</td>\n",
       "      <td>0</td>\n",
       "      <td>mandatory</td>\n",
       "      <td>0</td>\n",
       "    </tr>\n",
       "  </tbody>\n",
       "</table>\n",
       "</div>"
      ],
      "text/plain": [
       "   application_id                            session_id  loan_amount  \\\n",
       "0        18808923  a6f66c9e-74c0-11ea-a8e5-069d8de3f4da       1000.0   \n",
       "1        18848975  71489d11-75da-11ea-a8e5-069d8de3f4da       7000.0   \n",
       "2        18849326  bd5ec027-75db-11ea-a8e5-069d8de3f4da       8000.0   \n",
       "3        18849472  452fda42-75dc-11ea-a8e5-069d8de3f4da       6000.0   \n",
       "4        18849611  c44b91c5-75dc-11ea-a8e5-069d8de3f4da       1500.0   \n",
       "\n",
       "   loan_term  loan_issued  loan_missed_first_payment  \\\n",
       "0         12            0                          0   \n",
       "1         30            1                          0   \n",
       "2         60            1                          0   \n",
       "3         30            1                          0   \n",
       "4         24            0                          0   \n",
       "\n",
       "   customer_completed_open_banking  customer_uploaded_a_payslip  \\\n",
       "0                                1                            0   \n",
       "1                                1                            1   \n",
       "2                                1                            0   \n",
       "3                                1                            0   \n",
       "4                                0                            0   \n",
       "\n",
       "   customer_signed_contract  customer_is_a_homeowner      value  income_val  \n",
       "0                         0                        0  mandatory           1  \n",
       "1                         1                        0  mandatory           2  \n",
       "2                         1                        1  mandatory           1  \n",
       "3                         1                        0  mandatory           1  \n",
       "4                         0                        0  mandatory           0  "
      ]
     },
     "execution_count": 22,
     "metadata": {},
     "output_type": "execute_result"
    }
   ],
   "source": [
    "# Got tired of typing column names using associated array/dictionary - found code to simplify by adding underscores\n",
    "df_combined.columns = df_combined.columns.str.strip().str.lower().str.replace(' ', '_').str.replace('(', '').str.replace(')', '')\n",
    "df_combined.head(5)"
   ]
  },
  {
   "cell_type": "code",
   "execution_count": 23,
   "metadata": {},
   "outputs": [
    {
     "data": {
      "text/html": [
       "<div>\n",
       "<style scoped>\n",
       "    .dataframe tbody tr th:only-of-type {\n",
       "        vertical-align: middle;\n",
       "    }\n",
       "\n",
       "    .dataframe tbody tr th {\n",
       "        vertical-align: top;\n",
       "    }\n",
       "\n",
       "    .dataframe thead th {\n",
       "        text-align: right;\n",
       "    }\n",
       "</style>\n",
       "<table border=\"1\" class=\"dataframe\">\n",
       "  <thead>\n",
       "    <tr style=\"text-align: right;\">\n",
       "      <th>loan_issued</th>\n",
       "      <th>0</th>\n",
       "      <th>1</th>\n",
       "    </tr>\n",
       "    <tr>\n",
       "      <th>value</th>\n",
       "      <th></th>\n",
       "      <th></th>\n",
       "    </tr>\n",
       "  </thead>\n",
       "  <tbody>\n",
       "    <tr>\n",
       "      <th>mandatory</th>\n",
       "      <td>283</td>\n",
       "      <td>291</td>\n",
       "    </tr>\n",
       "    <tr>\n",
       "      <th>normal</th>\n",
       "      <td>57</td>\n",
       "      <td>113</td>\n",
       "    </tr>\n",
       "  </tbody>\n",
       "</table>\n",
       "</div>"
      ],
      "text/plain": [
       "loan_issued    0    1\n",
       "value                \n",
       "mandatory    283  291\n",
       "normal        57  113"
      ]
     },
     "execution_count": 23,
     "metadata": {},
     "output_type": "execute_result"
    }
   ],
   "source": [
    "# Crosstab of test and loan issued outcomec\n",
    "loan = pd.crosstab(df_combined.value, df_combined.loan_issued)\n",
    "loan"
   ]
  },
  {
   "cell_type": "code",
   "execution_count": 35,
   "metadata": {},
   "outputs": [
    {
     "data": {
      "text/plain": [
       "<matplotlib.axes._subplots.AxesSubplot at 0x1be47e28520>"
      ]
     },
     "execution_count": 35,
     "metadata": {},
     "output_type": "execute_result"
    },
    {
     "data": {
      "image/png": "[encoded data removed]",
      "text/plain": [
       "<Figure size 432x432 with 1 Axes>"
      ]
     },
     "metadata": {
      "needs_background": "light"
     },
     "output_type": "display_data"
    }
   ],
   "source": [
    "loan.plot(kind=\"bar\", \n",
    "                 figsize=(6,6),\n",
    "                 stacked=True)"
   ]
  },
  {
   "cell_type": "code",
   "execution_count": 36,
   "metadata": {},
   "outputs": [
    {
     "data": {
      "text/html": [
       "<div>\n",
       "<style scoped>\n",
       "    .dataframe tbody tr th:only-of-type {\n",
       "        vertical-align: middle;\n",
       "    }\n",
       "\n",
       "    .dataframe tbody tr th {\n",
       "        vertical-align: top;\n",
       "    }\n",
       "\n",
       "    .dataframe thead th {\n",
       "        text-align: right;\n",
       "    }\n",
       "</style>\n",
       "<table border=\"1\" class=\"dataframe\">\n",
       "  <thead>\n",
       "    <tr style=\"text-align: right;\">\n",
       "      <th>loan_missed_first_payment</th>\n",
       "      <th>0</th>\n",
       "      <th>1</th>\n",
       "    </tr>\n",
       "    <tr>\n",
       "      <th>value</th>\n",
       "      <th></th>\n",
       "      <th></th>\n",
       "    </tr>\n",
       "  </thead>\n",
       "  <tbody>\n",
       "    <tr>\n",
       "      <th>mandatory</th>\n",
       "      <td>571</td>\n",
       "      <td>3</td>\n",
       "    </tr>\n",
       "    <tr>\n",
       "      <th>normal</th>\n",
       "      <td>164</td>\n",
       "      <td>6</td>\n",
       "    </tr>\n",
       "  </tbody>\n",
       "</table>\n",
       "</div>"
      ],
      "text/plain": [
       "loan_missed_first_payment    0  1\n",
       "value                            \n",
       "mandatory                  571  3\n",
       "normal                     164  6"
      ]
     },
     "execution_count": 36,
     "metadata": {},
     "output_type": "execute_result"
    }
   ],
   "source": [
    "# first loan payment\n",
    "missed_pay = pd.crosstab( df_combined.value, df_combined.loan_missed_first_payment)\n",
    "missed_pay"
   ]
  },
  {
   "cell_type": "code",
   "execution_count": 37,
   "metadata": {},
   "outputs": [
    {
     "data": {
      "text/plain": [
       "<matplotlib.axes._subplots.AxesSubplot at 0x1be47ea9760>"
      ]
     },
     "execution_count": 37,
     "metadata": {},
     "output_type": "execute_result"
    },
    {
     "data": {
      "image/png": "[encoded data removed]",
      "text/plain": [
       "<Figure size 432x432 with 1 Axes>"
      ]
     },
     "metadata": {
      "needs_background": "light"
     },
     "output_type": "display_data"
    }
   ],
   "source": [
    "missed_pay.plot(kind=\"bar\", \n",
    "                 figsize=(6,6),\n",
    "                 stacked=True)"
   ]
  },
  {
   "cell_type": "code",
   "execution_count": 40,
   "metadata": {},
   "outputs": [
    {
     "data": {
      "text/html": [
       "<div>\n",
       "<style scoped>\n",
       "    .dataframe tbody tr th:only-of-type {\n",
       "        vertical-align: middle;\n",
       "    }\n",
       "\n",
       "    .dataframe tbody tr th {\n",
       "        vertical-align: top;\n",
       "    }\n",
       "\n",
       "    .dataframe thead th {\n",
       "        text-align: right;\n",
       "    }\n",
       "</style>\n",
       "<table border=\"1\" class=\"dataframe\">\n",
       "  <thead>\n",
       "    <tr style=\"text-align: right;\">\n",
       "      <th>income_val</th>\n",
       "      <th>0</th>\n",
       "      <th>1</th>\n",
       "      <th>2</th>\n",
       "    </tr>\n",
       "    <tr>\n",
       "      <th>value</th>\n",
       "      <th></th>\n",
       "      <th></th>\n",
       "      <th></th>\n",
       "    </tr>\n",
       "  </thead>\n",
       "  <tbody>\n",
       "    <tr>\n",
       "      <th>mandatory</th>\n",
       "      <td>232</td>\n",
       "      <td>228</td>\n",
       "      <td>114</td>\n",
       "    </tr>\n",
       "    <tr>\n",
       "      <th>normal</th>\n",
       "      <td>117</td>\n",
       "      <td>46</td>\n",
       "      <td>7</td>\n",
       "    </tr>\n",
       "  </tbody>\n",
       "</table>\n",
       "</div>"
      ],
      "text/plain": [
       "income_val    0    1    2\n",
       "value                    \n",
       "mandatory   232  228  114\n",
       "normal      117   46    7"
      ]
     },
     "execution_count": 40,
     "metadata": {},
     "output_type": "execute_result"
    }
   ],
   "source": [
    "# how many actually proceeded with the manual income validation?\n",
    "income_val = pd.crosstab( df_combined.value, df_combined.income_val)\n",
    "income_val"
   ]
  },
  {
   "cell_type": "code",
   "execution_count": 39,
   "metadata": {},
   "outputs": [
    {
     "data": {
      "text/plain": [
       "<matplotlib.axes._subplots.AxesSubplot at 0x1be47f0cb20>"
      ]
     },
     "execution_count": 39,
     "metadata": {},
     "output_type": "execute_result"
    },
    {
     "data": {
      "image/png": "[encoded data removed]",
      "text/plain": [
       "<Figure size 432x432 with 1 Axes>"
      ]
     },
     "metadata": {
      "needs_background": "light"
     },
     "output_type": "display_data"
    }
   ],
   "source": [
    "income_val.plot(kind=\"bar\", \n",
    "                 figsize=(6,6),\n",
    "                 stacked=True)"
   ]
  },
  {
   "cell_type": "code",
   "execution_count": 44,
   "metadata": {},
   "outputs": [
    {
     "data": {
      "text/html": [
       "<div>\n",
       "<style scoped>\n",
       "    .dataframe tbody tr th:only-of-type {\n",
       "        vertical-align: middle;\n",
       "    }\n",
       "\n",
       "    .dataframe tbody tr th {\n",
       "        vertical-align: top;\n",
       "    }\n",
       "\n",
       "    .dataframe thead th {\n",
       "        text-align: right;\n",
       "    }\n",
       "</style>\n",
       "<table border=\"1\" class=\"dataframe\">\n",
       "  <thead>\n",
       "    <tr style=\"text-align: right;\">\n",
       "      <th>customer_completed_open_banking</th>\n",
       "      <th>0</th>\n",
       "      <th>1</th>\n",
       "    </tr>\n",
       "    <tr>\n",
       "      <th>value</th>\n",
       "      <th></th>\n",
       "      <th></th>\n",
       "    </tr>\n",
       "  </thead>\n",
       "  <tbody>\n",
       "    <tr>\n",
       "      <th>mandatory</th>\n",
       "      <td>264</td>\n",
       "      <td>310</td>\n",
       "    </tr>\n",
       "    <tr>\n",
       "      <th>normal</th>\n",
       "      <td>124</td>\n",
       "      <td>46</td>\n",
       "    </tr>\n",
       "  </tbody>\n",
       "</table>\n",
       "</div>"
      ],
      "text/plain": [
       "customer_completed_open_banking    0    1\n",
       "value                                    \n",
       "mandatory                        264  310\n",
       "normal                           124   46"
      ]
     },
     "execution_count": 44,
     "metadata": {},
     "output_type": "execute_result"
    }
   ],
   "source": [
    "#customer_completed_open_banking\n",
    "open_bank = pd.crosstab( df_combined.value, df_combined.customer_completed_open_banking)\n",
    "open_bank"
   ]
  },
  {
   "cell_type": "code",
   "execution_count": 43,
   "metadata": {},
   "outputs": [
    {
     "data": {
      "text/plain": [
       "<matplotlib.axes._subplots.AxesSubplot at 0x1be47f838e0>"
      ]
     },
     "execution_count": 43,
     "metadata": {},
     "output_type": "execute_result"
    },
    {
     "data": {
      "image/png": "[encoded data removed]",
      "text/plain": [
       "<Figure size 432x432 with 1 Axes>"
      ]
     },
     "metadata": {
      "needs_background": "light"
     },
     "output_type": "display_data"
    }
   ],
   "source": [
    "open_bank.plot(kind=\"bar\", \n",
    "                 figsize=(6,6),\n",
    "                 stacked=True)"
   ]
  },
  {
   "cell_type": "code",
   "execution_count": 46,
   "metadata": {},
   "outputs": [
    {
     "data": {
      "text/html": [
       "<div>\n",
       "<style scoped>\n",
       "    .dataframe tbody tr th:only-of-type {\n",
       "        vertical-align: middle;\n",
       "    }\n",
       "\n",
       "    .dataframe tbody tr th {\n",
       "        vertical-align: top;\n",
       "    }\n",
       "\n",
       "    .dataframe thead th {\n",
       "        text-align: right;\n",
       "    }\n",
       "</style>\n",
       "<table border=\"1\" class=\"dataframe\">\n",
       "  <thead>\n",
       "    <tr style=\"text-align: right;\">\n",
       "      <th>customer_uploaded_a_payslip</th>\n",
       "      <th>0</th>\n",
       "      <th>1</th>\n",
       "    </tr>\n",
       "    <tr>\n",
       "      <th>value</th>\n",
       "      <th></th>\n",
       "      <th></th>\n",
       "    </tr>\n",
       "  </thead>\n",
       "  <tbody>\n",
       "    <tr>\n",
       "      <th>mandatory</th>\n",
       "      <td>428</td>\n",
       "      <td>146</td>\n",
       "    </tr>\n",
       "    <tr>\n",
       "      <th>normal</th>\n",
       "      <td>156</td>\n",
       "      <td>14</td>\n",
       "    </tr>\n",
       "  </tbody>\n",
       "</table>\n",
       "</div>"
      ],
      "text/plain": [
       "customer_uploaded_a_payslip    0    1\n",
       "value                                \n",
       "mandatory                    428  146\n",
       "normal                       156   14"
      ]
     },
     "execution_count": 46,
     "metadata": {},
     "output_type": "execute_result"
    }
   ],
   "source": [
    "#customer_uploaded_a_payslip\n",
    "payslip = pd.crosstab( df_combined.value, df_combined.customer_uploaded_a_payslip)\n",
    "payslip"
   ]
  },
  {
   "cell_type": "code",
   "execution_count": 47,
   "metadata": {},
   "outputs": [
    {
     "data": {
      "text/plain": [
       "<matplotlib.axes._subplots.AxesSubplot at 0x1be476db100>"
      ]
     },
     "execution_count": 47,
     "metadata": {},
     "output_type": "execute_result"
    },
    {
     "data": {
      "image/png": "[encoded data removed]",
      "text/plain": [
       "<Figure size 432x432 with 1 Axes>"
      ]
     },
     "metadata": {
      "needs_background": "light"
     },
     "output_type": "display_data"
    }
   ],
   "source": [
    "payslip.plot(kind=\"bar\", \n",
    "                 figsize=(6,6),\n",
    "                 stacked=True)"
   ]
  },
  {
   "cell_type": "code",
   "execution_count": 48,
   "metadata": {},
   "outputs": [
    {
     "data": {
      "text/html": [
       "<div>\n",
       "<style scoped>\n",
       "    .dataframe tbody tr th:only-of-type {\n",
       "        vertical-align: middle;\n",
       "    }\n",
       "\n",
       "    .dataframe tbody tr th {\n",
       "        vertical-align: top;\n",
       "    }\n",
       "\n",
       "    .dataframe thead th {\n",
       "        text-align: right;\n",
       "    }\n",
       "</style>\n",
       "<table border=\"1\" class=\"dataframe\">\n",
       "  <thead>\n",
       "    <tr style=\"text-align: right;\">\n",
       "      <th>customer_signed_contract</th>\n",
       "      <th>0</th>\n",
       "      <th>1</th>\n",
       "    </tr>\n",
       "    <tr>\n",
       "      <th>value</th>\n",
       "      <th></th>\n",
       "      <th></th>\n",
       "    </tr>\n",
       "  </thead>\n",
       "  <tbody>\n",
       "    <tr>\n",
       "      <th>mandatory</th>\n",
       "      <td>226</td>\n",
       "      <td>348</td>\n",
       "    </tr>\n",
       "    <tr>\n",
       "      <th>normal</th>\n",
       "      <td>41</td>\n",
       "      <td>129</td>\n",
       "    </tr>\n",
       "  </tbody>\n",
       "</table>\n",
       "</div>"
      ],
      "text/plain": [
       "customer_signed_contract    0    1\n",
       "value                             \n",
       "mandatory                 226  348\n",
       "normal                     41  129"
      ]
     },
     "execution_count": 48,
     "metadata": {},
     "output_type": "execute_result"
    }
   ],
   "source": [
    "#customer_signed_contract\n",
    "contract = pd.crosstab( df_combined.value, df_combined.customer_signed_contract)\n",
    "contract"
   ]
  },
  {
   "cell_type": "code",
   "execution_count": 49,
   "metadata": {},
   "outputs": [
    {
     "data": {
      "text/plain": [
       "<matplotlib.axes._subplots.AxesSubplot at 0x1be474f3130>"
      ]
     },
     "execution_count": 49,
     "metadata": {},
     "output_type": "execute_result"
    },
    {
     "data": {
      "image/png": "[encoded data removed]",
      "text/plain": [
       "<Figure size 432x432 with 1 Axes>"
      ]
     },
     "metadata": {
      "needs_background": "light"
     },
     "output_type": "display_data"
    }
   ],
   "source": [
    "contract.plot(kind=\"bar\", \n",
    "                 figsize=(6,6),\n",
    "                 stacked=True)"
   ]
  },
  {
   "cell_type": "code",
   "execution_count": 31,
   "metadata": {},
   "outputs": [
    {
     "data": {
      "text/html": [
       "<div>\n",
       "<style scoped>\n",
       "    .dataframe tbody tr th:only-of-type {\n",
       "        vertical-align: middle;\n",
       "    }\n",
       "\n",
       "    .dataframe tbody tr th {\n",
       "        vertical-align: top;\n",
       "    }\n",
       "\n",
       "    .dataframe thead th {\n",
       "        text-align: right;\n",
       "    }\n",
       "</style>\n",
       "<table border=\"1\" class=\"dataframe\">\n",
       "  <thead>\n",
       "    <tr style=\"text-align: right;\">\n",
       "      <th>customer_is_a_homeowner</th>\n",
       "      <th>0</th>\n",
       "      <th>1</th>\n",
       "    </tr>\n",
       "    <tr>\n",
       "      <th>value</th>\n",
       "      <th></th>\n",
       "      <th></th>\n",
       "    </tr>\n",
       "  </thead>\n",
       "  <tbody>\n",
       "    <tr>\n",
       "      <th>mandatory</th>\n",
       "      <td>361</td>\n",
       "      <td>213</td>\n",
       "    </tr>\n",
       "    <tr>\n",
       "      <th>normal</th>\n",
       "      <td>113</td>\n",
       "      <td>57</td>\n",
       "    </tr>\n",
       "  </tbody>\n",
       "</table>\n",
       "</div>"
      ],
      "text/plain": [
       "customer_is_a_homeowner    0    1\n",
       "value                            \n",
       "mandatory                361  213\n",
       "normal                   113   57"
      ]
     },
     "execution_count": 31,
     "metadata": {},
     "output_type": "execute_result"
    }
   ],
   "source": [
    "#customer_is_a_homeowner\n",
    "home = pd.crosstab( df_combined.value, df_combined.customer_is_a_homeowner)\n",
    "home"
   ]
  },
  {
   "cell_type": "code",
   "execution_count": 32,
   "metadata": {},
   "outputs": [
    {
     "data": {
      "text/plain": [
       "<matplotlib.axes._subplots.AxesSubplot at 0x1be477b0370>"
      ]
     },
     "execution_count": 32,
     "metadata": {},
     "output_type": "execute_result"
    },
    {
     "data": {
      "image/png": "[encoded data removed]",
      "text/plain": [
       "<Figure size 432x432 with 1 Axes>"
      ]
     },
     "metadata": {
      "needs_background": "light"
     },
     "output_type": "display_data"
    }
   ],
   "source": [
    "home.plot(kind=\"bar\", \n",
    "                 figsize=(6,6),\n",
    "                 stacked=True)"
   ]
  },
  {
   "cell_type": "code",
   "execution_count": 50,
   "metadata": {},
   "outputs": [],
   "source": [
    "# mandatory customers seem to be better customers "
   ]
  }
 ],
 "metadata": {
  "kernelspec": {
   "display_name": "Python 3",
   "language": "python",
   "name": "python3"
  },
  "language_info": {
   "codemirror_mode": {
    "name": "ipython",
    "version": 3
   },
   "file_extension": ".py",
   "mimetype": "text/x-python",
   "name": "python",
   "nbconvert_exporter": "python",
   "pygments_lexer": "ipython3",
   "version": "3.8.3"
  }
 },
 "nbformat": 4,
 "nbformat_minor": 4
}
