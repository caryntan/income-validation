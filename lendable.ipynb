{
 "cells": [
  {
   "cell_type": "markdown",
   "metadata": {},
   "source": [
    "<p align=\"left\">\n",
    "<img src=\"https://www.fasttrack.co.uk/wp-content/uploads/lendable.png\" width=\"70%\">\n",
    "</p>\n",
    "<br><br>\n",
    "\n",
    "\n",
    "## **Take home assignment workings and assumptions**\n",
    "\n",
    "\n",
    "Welcome to this live, hands-on training where you will learn how to upgrade from being an Excel user to using Python. \n",
    "\n",
    "In most organizations across all industries, data fluency, technical skills and a data-driven mindset are becoming sought after skills that drive organizational success in the digital age. This shift has spurred on the adoption of tools that go beyond Excel, which allow for more robust data analysis, visualization and presentation. In this notebook, you will learn:\n",
    "\n",
    "* How to import Excel files into `pandas`.\n",
    "* Filter, add new columns, and explore DataFrames.\n",
    "* Apply common Excel operations such as pivot tables and VLOOKUP in Python.\n",
    "* Present data as visualizations using `matplotlib` and `seaborn`.\n",
    "\n",
    "The dataset to be used in this webinar is an Excel file named `sales_data_dirty.xlsx` - it contains 4 sheets, each containing the following columns:\n",
    "\n",
    "<br>\n"
   ]
  },
  {
   "cell_type": "code",
   "execution_count": 2,
   "metadata": {},
   "outputs": [
    {
     "ename": "SyntaxError",
     "evalue": "invalid syntax (<ipython-input-2-6f4a77fb2b38>, line 4)",
     "output_type": "error",
     "traceback": [
      "\u001b[1;36m  File \u001b[1;32m\"<ipython-input-2-6f4a77fb2b38>\"\u001b[1;36m, line \u001b[1;32m4\u001b[0m\n\u001b[1;33m    Welcome to this live, hands-on training where you will learn how to upgrade from being an Excel user to using Python.\u001b[0m\n\u001b[1;37m            ^\u001b[0m\n\u001b[1;31mSyntaxError\u001b[0m\u001b[1;31m:\u001b[0m invalid syntax\n"
     ]
    }
   ],
   "source": []
  },
  {
   "cell_type": "code",
   "execution_count": null,
   "metadata": {},
   "outputs": [],
   "source": []
  }
 ],
 "metadata": {
  "kernelspec": {
   "display_name": "Python 3",
   "language": "python",
   "name": "python3"
  },
  "language_info": {
   "codemirror_mode": {
    "name": "ipython",
    "version": 3
   },
   "file_extension": ".py",
   "mimetype": "text/x-python",
   "name": "python",
   "nbconvert_exporter": "python",
   "pygments_lexer": "ipython3",
   "version": "3.8.3"
  }
 },
 "nbformat": 4,
 "nbformat_minor": 4
}
